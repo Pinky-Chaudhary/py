{
  "nbformat": 4,
  "nbformat_minor": 0,
  "metadata": {
    "kernelspec": {
      "display_name": "Python 3",
      "language": "python",
      "name": "python3"
    },
    "language_info": {
      "codemirror_mode": {
        "name": "ipython",
        "version": 3
      },
      "file_extension": ".py",
      "mimetype": "text/x-python",
      "name": "python",
      "nbconvert_exporter": "python",
      "pygments_lexer": "ipython3",
      "version": "3.8.5"
    },
    "colab": {
      "name": "DMBI DesicionTree,Navie Bayes.ipynb",
      "provenance": [],
      "collapsed_sections": [],
      "toc_visible": true,
      "include_colab_link": true
    }
  },
  "cells": [
    {
      "cell_type": "markdown",
      "metadata": {
        "id": "view-in-github",
        "colab_type": "text"
      },
      "source": [
        "<a href=\"https://colab.research.google.com/github/Pinky-Chaudhary/py/blob/master/DMBI_DesicionTree%2CNavie_Bayes.ipynb\" target=\"_parent\"><img src=\"https://colab.research.google.com/assets/colab-badge.svg\" alt=\"Open In Colab\"/></a>"
      ]
    },
    {
      "cell_type": "code",
      "metadata": {
        "id": "mFnh-lNKJjuX",
        "outputId": "4994feab-03c5-4f10-ed5a-2a538884aa20",
        "colab": {
          "base_uri": "https://localhost:8080/",
          "height": 75
        }
      },
      "source": [
        "import pandas as pd\n",
        "from itertools import combinations,permutations,chain\n",
        "import numpy as np\n",
        " \n",
        "class Apriori:\n",
        "    def __init__(self,df,df1,min_sup,min_conf):\n",
        "        self.df = df\n",
        "        self.df1 = df1\n",
        "        self.min_sup = min_sup\n",
        "        self.min_conf = min_conf\n",
        "        self.item_set = df1.columns\n",
        "        \n",
        "    def getRules(self):\n",
        "        rules=[]\n",
        "        for i in range(1,len(self.item_set)+1):\n",
        "            rules.append(list(combinations(self.item_set,i)))  \n",
        "        print(rules)\n",
        "        return rules\n",
        "    \n",
        "    def getFrequentItemSet(self):\n",
        "        fequent_itemset=dict()\n",
        "        rules = self.getRules()\n",
        "        for i in self.item_set:\n",
        "            if self.df1[i].mean() >= self.min_sup:\n",
        "                fequent_itemset[i]=round(self.df1[i].mean(),2)\n",
        "        for rule in rules:\n",
        "            for i in rule:\n",
        "                result = [True for i in range(len(self.item_set)+1)]\n",
        "                for j in range(0,len(i)):\n",
        "                    result = np.logical_and(result,self.df[i[j]])\n",
        "                if result.mean() >=self.min_sup:\n",
        "                    fequent_itemset[i] = round(result.mean(),2)\n",
        "        print(fequent_itemset)\n",
        "        return fequent_itemset         \n",
        "        \n",
        "    def getRulesWithMinConfidence(self):\n",
        "        frequent_itemset = self.getFrequentItemSet()\n",
        "        L = tuple(list(frequent_itemset.keys())[-1])\n",
        "        subset = map(tuple,sorted(chain(*[combinations(L,i+1) for i,a in enumerate(L)])))\n",
        "        Confidence_set =[]\n",
        "        for i in subset:\n",
        "            remain = set(L).difference(set(i))\n",
        "            if(len(remain) > 0):\n",
        "                confidence = round(frequent_itemset[L]/frequent_itemset[i],2)\n",
        "                if confidence >= self.min_conf:\n",
        "                    Confidence_set.append([list(i),list(remain),confidence])\n",
        " \n",
        "        return Confidence_set\n",
        " \n",
        " \n",
        " \n",
        "def main():\n",
        "    print(\"----------------Apriori Algorithm----------------\")\n",
        "    min_sup = float(input(\"Enter Minimum Support: \"))\n",
        "    min_conf = float(input(\"Enter Minimum Confidence: \"))\n",
        "    filepath = input(\"Enter File Path: \")\n",
        "    df = pd.read_csv(filepath)\n",
        "    df1 = df['Transaction'].str.get_dummies(sep=',')\n",
        "    df[df1.columns] = df1\n",
        "    print(df1)\n",
        "    a = Apriori(df,df1,min_sup,min_conf)\n",
        "    Confidence_Set = a.getRulesWithMinConfidence()\n",
        "    print(\"Anticident=>Consequent      Confidence\")\n",
        "    for i,j,conf in Confidence_Set:\n",
        "        \n",
        "        print(i,\"=>\",j,\"       \",conf)\n",
        "main()"
      ],
      "execution_count": null,
      "outputs": [
        {
          "output_type": "stream",
          "text": [
            "----------------Apriori Algorithm----------------\n"
          ],
          "name": "stdout"
        }
      ]
    },
    {
      "cell_type": "code",
      "metadata": {
        "id": "DH9DToAuJjue"
      },
      "source": [
        "# /content/APRIORI1.CSV\n",
        "\"C:\\\\Users\\\\ADMIN\\\\OneDrive\\\\pinky\\\\sem7\\\\DMBI\\\\APRIORI1.CSV\")"
      ],
      "execution_count": null,
      "outputs": []
    },
    {
      "cell_type": "code",
      "metadata": {
        "id": "0DdQoJOrRBX_"
      },
      "source": [
        "training_data = [\n",
        "           ['Positive','Low','High','Up'],\n",
        "           ['Negative','High','Low','Down'],\n",
        "           ['Positive','Low','High','Up'],\n",
        "           ['Positive','High','High','Up'],\n",
        "           ['Negative','Low','High','Down'],\n",
        "           ['Positive','Low','Low','Down'],\n",
        "           ['Negative','High','High','Down'],\n",
        "           ['Negative','Low','High','Down'],\n",
        "           ['Positive','Low','Low','Down'],\n",
        "           ['Positive','High','High','Up'],\n",
        "]\n",
        "header = ['PAST_TREND','OPEN_INTREST','TRADING_VALUE','RETURN']\n"
      ],
      "execution_count": null,
      "outputs": []
    },
    {
      "cell_type": "code",
      "metadata": {
        "id": "pxgVh2WvYJ90"
      },
      "source": [
        "def unique_vals(rows, col):\n",
        "    \"\"\"Find the unique values for a column in a dataset.\"\"\"\n",
        "    return set([row[col] for row in rows])\n",
        "\n",
        "def class_counts(rows):\n",
        "    \"\"\"Counts the number of each type of example in a dataset.\"\"\"\n",
        "    counts = {}  # a dictionary of label -> count.\n",
        "    for row in rows:\n",
        "        # in our dataset format, the label is always the last column\n",
        "        label = row[-1]\n",
        "        if label not in counts:\n",
        "            counts[label] = 0\n",
        "        counts[label] += 1\n",
        "    return counts\n",
        "\n",
        "def is_numeric(value):\n",
        "    \"\"\"Test if a value is numeric.\"\"\"\n",
        "    return isinstance(value, int) or isinstance(value, float)\n",
        "\n",
        "class Question:\n",
        "    \"\"\"A Question is used to partition a dataset.\n",
        "    This class just records a 'column number' and a 'column value'.\n",
        "    \"\"\"\n",
        "    def __init__(self, column, value):\n",
        "        self.column = column\n",
        "        self.value = value\n",
        "    def match(self, example):\n",
        "        # Compare the feature value in an example to the\n",
        "        # feature value in this question.\n",
        "        val = example[self.column]\n",
        "        if is_numeric(val):\n",
        "            return val >= self.value\n",
        "        else:\n",
        "            return val == self.value\n",
        "\n",
        "    def __repr__(self):\n",
        "        # This is just a helper method to print\n",
        "        # the question in a readable format.\n",
        "        condition = \"==\"\n",
        "        if is_numeric(self.value):\n",
        "            condition = \">=\"\n",
        "        return \"Is %s %s %s?\" % (header[self.column], condition, str(self.value))\n",
        "\n",
        "def partition(rows, question):\n",
        "    \"\"\"Partitions a dataset.\n",
        "\n",
        "    For each row in the dataset, check if it matches the question. If\n",
        "    so, add it to 'true rows', otherwise, add it to 'false rows'.\n",
        "    \"\"\"\n",
        "    true_rows, false_rows = [], []\n",
        "    for row in rows:\n",
        "        if question.match(row):\n",
        "            true_rows.append(row)\n",
        "        else:\n",
        "            false_rows.append(row)\n",
        "    return true_rows, false_rows\n",
        "\n",
        "def gini(rows):\n",
        "    \"\"\"Calculate the Gini Impurity for a list of rows. \"\"\"\n",
        "    counts = class_counts(rows)\n",
        "    impurity = 1\n",
        "    for lbl in counts:\n",
        "        prob_of_lbl = counts[lbl] / float(len(rows))\n",
        "        impurity -= prob_of_lbl**2\n",
        "    return impurity\n",
        "\n",
        "def info_gain(left, right, current_uncertainty):\n",
        "    \"\"\"Information Gain.\n",
        "    The uncertainty of the starting node, minus the weighted impurity of\n",
        "    two child nodes.\n",
        "    \"\"\"\n",
        "    p = float(len(left)) / (len(left) + len(right))\n",
        "    return current_uncertainty - p * gini(left) - (1 - p) * gini(right)\n",
        "\n",
        "def find_best_split(rows):\n",
        "    \"\"\"Find the best question to ask by iterating over every feature / value\n",
        "    and calculating the information gain.\"\"\"\n",
        "    best_gain = 0  # keep track of the best information gain\n",
        "    best_question = None  # keep train of the feature / value that produced it\n",
        "    current_uncertainty = gini(rows)\n",
        "    n_features = len(rows[0]) - 1  # number of columns\n",
        "\n",
        "    for col in range(n_features):  # for each feature\n",
        "\n",
        "        values = set([row[col] for row in rows])  # unique values in the column\n",
        "\n",
        "        for val in values:  # for each value\n",
        "\n",
        "            question = Question(col, val)\n",
        "\n",
        "            # try splitting the dataset\n",
        "            true_rows, false_rows = partition(rows, question)\n",
        "\n",
        "            # Skip this split if it doesn't divide the\n",
        "            # dataset.\n",
        "            if len(true_rows) == 0 or len(false_rows) == 0:\n",
        "                continue\n",
        "\n",
        "            # Calculate the information gain from this split\n",
        "            gain = info_gain(true_rows, false_rows, current_uncertainty)\n",
        "\n",
        "            # You actually can use '>' instead of '>=' here\n",
        "            # but I wanted the tree to look a certain way for our\n",
        "            # toy dataset.\n",
        "            if gain >= best_gain:\n",
        "                best_gain, best_question = gain, question\n",
        "\n",
        "    return best_gain, best_question\n",
        "\n",
        "class Leaf:\n",
        "    \"\"\"A Leaf node classifies data. \"\"\"\n",
        "\n",
        "    def __init__(self, rows):\n",
        "        self.predictions = class_counts(rows)\n",
        "\n",
        "class Decision_Node:\n",
        "    \"\"\"A Decision Node asks a question.\n",
        "    This holds a reference to the question, and to the two child nodes.\n",
        "    \"\"\"\n",
        "\n",
        "    def __init__(self,question,true_branch,false_branch):\n",
        "        self.question = question\n",
        "        self.true_branch = true_branch\n",
        "        self.false_branch = false_branch\n",
        "\n",
        "def build_tree(rows):\n",
        "    \"\"\"Builds the tree.\n",
        "\n",
        "    Rules of recursion: 1) Believe that it works. 2) Start by checking\n",
        "    for the base case (no further information gain). 3) Prepare for\n",
        "    giant stack traces.\n",
        "    \"\"\"\n",
        "\n",
        "    # Try partitioing the dataset on each of the unique attribute,\n",
        "    # calculate the information gain,\n",
        "    # and return the question that produces the highest gain.\n",
        "    gain, question = find_best_split(rows)\n",
        "\n",
        "    # Base case: no further info gain\n",
        "    # Since we can ask no further questions,\n",
        "    # we'll return a leaf.\n",
        "    if gain == 0:\n",
        "        return Leaf(rows)\n",
        "\n",
        "    # If we reach here, we have found a useful feature / value\n",
        "    # to partition on.\n",
        "    true_rows, false_rows = partition(rows, question)\n",
        "\n",
        "    # Recursively build the true branch.\n",
        "    true_branch = build_tree(true_rows)\n",
        "\n",
        "    # Recursively build the false branch.\n",
        "    false_branch = build_tree(false_rows)\n",
        "\n",
        "    # Return a Question node.\n",
        "    # This records the best feature / value to ask at this point,\n",
        "    # as well as the branches to follow\n",
        "    # dependingo on the answer.\n",
        "    return Decision_Node(question, true_branch, false_branch)\n",
        "\n",
        "def print_tree(node, spacing=\"\"):\n",
        "    \"\"\"World's most elegant tree printing function.\"\"\"\n",
        "\n",
        "    # Base case: we've reached a leaf\n",
        "    if isinstance(node, Leaf):\n",
        "        print (spacing + \"Predict\", node.predictions)\n",
        "        return\n",
        "\n",
        "    # Print the question at this node\n",
        "    print (spacing + str(node.question))\n",
        "\n",
        "    # Call this function recursively on the true branch\n",
        "    print (spacing + '--> True:')\n",
        "    print_tree(node.true_branch, spacing + \"  \")\n",
        "\n",
        "    # Call this function recursively on the false branch\n",
        "    print (spacing + '--> False:')\n",
        "    print_tree(node.false_branch, spacing + \"  \")\n",
        "\n",
        "DecisionTree = build_tree(training_data)"
      ],
      "execution_count": null,
      "outputs": []
    },
    {
      "cell_type": "code",
      "metadata": {
        "id": "bK-BB3D8Y1RH"
      },
      "source": [
        "print_tree(DecisionTree)"
      ],
      "execution_count": null,
      "outputs": []
    },
    {
      "cell_type": "code",
      "metadata": {
        "id": "tr2SMAiwZF-2"
      },
      "source": [
        "def classify(row, node):\n",
        "    \"\"\"See the 'rules of recursion' above.\"\"\"\n",
        "    # Base case: we've reached a leaf\n",
        "    if isinstance(node, Leaf):\n",
        "        return node.predictions\n",
        "    # Decide whether to follow the true-branch or the false-branch.\n",
        "    # Compare the feature / value stored in the node,\n",
        "    # to the example we're considering.\n",
        "    if node.question.match(row):\n",
        "        return classify(row, node.true_branch)\n",
        "    else:\n",
        "        return classify(row, node.false_branch)\n",
        "def print_leaf(counts):\n",
        "    \"\"\"A nicer way to print the predictions at a leaf.\"\"\"\n",
        "    total = sum(counts.values()) * 1.0\n",
        "    probs = {}\n",
        "    for lbl in counts.keys():\n",
        "        probs[lbl] = str(int(counts[lbl] / total * 100)) + \"%\"\n",
        "    return probs"
      ],
      "execution_count": null,
      "outputs": []
    },
    {
      "cell_type": "code",
      "metadata": {
        "id": "SCl4WBLKZ7zu",
        "outputId": "4e27b4f9-fa85-4c5f-a9e3-ff8b3af2c14f",
        "colab": {
          "base_uri": "https://localhost:8080/",
          "height": 35
        }
      },
      "source": [
        "testing_data = ['Negative','High','High']\n",
        "print_leaf(classify(testing_data, DecisionTree))"
      ],
      "execution_count": null,
      "outputs": [
        {
          "output_type": "execute_result",
          "data": {
            "text/plain": [
              "{'Down': '100%'}"
            ]
          },
          "metadata": {
            "tags": []
          },
          "execution_count": 50
        }
      ]
    },
    {
      "cell_type": "code",
      "metadata": {
        "id": "dA_Y-nVjaBsE"
      },
      "source": [
        ""
      ],
      "execution_count": null,
      "outputs": []
    },
    {
      "cell_type": "code",
      "metadata": {
        "id": "CHwtH84GaDWk",
        "outputId": "ced7d67c-6f74-4118-8f45-7fc458e8842d",
        "colab": {
          "base_uri": "https://localhost:8080/",
          "height": 371
        }
      },
      "source": [
        "# Make Predictions with Naive Bayes On The Iris Dataset\n",
        "from csv import reader\n",
        "from math import sqrt\n",
        "from math import exp\n",
        "from math import pi\n",
        "\n",
        "# Load a CSV file\n",
        "def load_csv(filename):\n",
        "\tdataset = list()\n",
        "\twith open(filename, 'r') as file:\n",
        "\t\tcsv_reader = reader(file)\n",
        "\t\tfor row in csv_reader:\n",
        "\t\t\tif not row:\n",
        "\t\t\t\tcontinue\n",
        "\t\t\tdataset.append(row)\n",
        "\treturn dataset\n",
        "\n",
        "# Convert string column to float\n",
        "def str_column_to_float(dataset, column):\n",
        "\tfor row in dataset:\n",
        "\t\trow[column] = float(row[column].strip())\n",
        "\n",
        "# Convert string column to integer\n",
        "def str_column_to_int(dataset, column):\n",
        "\tclass_values = [row[column] for row in dataset]\n",
        "\tunique = set(class_values)\n",
        "\tlookup = dict()\n",
        "\tfor i, value in enumerate(unique):\n",
        "\t\tlookup[value] = i\n",
        "\t\tprint('[%s] => %d' % (value, i))\n",
        "\tfor row in dataset:\n",
        "\t\trow[column] = lookup[row[column]]\n",
        "\treturn lookup\n",
        "\n",
        "# Split the dataset by class values, returns a dictionary\n",
        "def separate_by_class(dataset):\n",
        "\tseparated = dict()\n",
        "\tfor i in range(len(dataset)):\n",
        "\t\tvector = dataset[i]\n",
        "\t\tclass_value = vector[-1]\n",
        "\t\tif (class_value not in separated):\n",
        "\t\t\tseparated[class_value] = list()\n",
        "\t\tseparated[class_value].append(vector)\n",
        "\treturn separated\n",
        "\n",
        "# Calculate the mean of a list of numbers\n",
        "def mean(numbers):\n",
        "\treturn sum(numbers)/float(len(numbers))\n",
        "\n",
        "# Calculate the standard deviation of a list of numbers\n",
        "def stdev(numbers):\n",
        "\tavg = mean(numbers)\n",
        "\tvariance = sum([(x-avg)**2 for x in numbers]) / float(len(numbers)-1)\n",
        "\treturn sqrt(variance)\n",
        "\n",
        "# Calculate the mean, stdev and count for each column in a dataset\n",
        "def summarize_dataset(dataset):\n",
        "\tsummaries = [(mean(column), stdev(column), len(column)) for column in zip(*dataset)]\n",
        "\tdel(summaries[-1])\n",
        "\treturn summaries\n",
        "\n",
        "# Split dataset by class then calculate statistics for each row\n",
        "def summarize_by_class(dataset):\n",
        "\tseparated = separate_by_class(dataset)\n",
        "\tsummaries = dict()\n",
        "\tfor class_value, rows in separated.items():\n",
        "\t\tsummaries[class_value] = summarize_dataset(rows)\n",
        "\treturn summaries\n",
        "\n",
        "# Calculate the Gaussian probability distribution function for x\n",
        "def calculate_probability(x, mean, stdev):\n",
        "\texponent = exp(-((x-mean)**2 / (2 * stdev**2 )))\n",
        "\treturn (1 / (sqrt(2 * pi) * stdev)) * exponent\n",
        "\n",
        "# Calculate the probabilities of predicting each class for a given row\n",
        "def calculate_class_probabilities(summaries, row):\n",
        "\ttotal_rows = sum([summaries[label][0][2] for label in summaries])\n",
        "\tprobabilities = dict()\n",
        "\tfor class_value, class_summaries in summaries.items():\n",
        "\t\tprobabilities[class_value] = summaries[class_value][0][2]/float(total_rows)\n",
        "\t\tfor i in range(len(class_summaries)):\n",
        "\t\t\tmean, stdev, _ = class_summaries[i]\n",
        "\t\t\tprobabilities[class_value] *= calculate_probability(row[i], mean, stdev)\n",
        "\treturn probabilities\n",
        "\n",
        "# Predict the class for a given row\n",
        "def predict(summaries, row):\n",
        "\tprobabilities = calculate_class_probabilities(summaries, row)\n",
        "\tbest_label, best_prob = None, -1\n",
        "\tfor class_value, probability in probabilities.items():\n",
        "\t\tif best_label is None or probability > best_prob:\n",
        "\t\t\tbest_prob = probability\n",
        "\t\t\tbest_label = class_value\n",
        "\treturn best_label\n",
        "\n",
        "# Make a prediction with Naive Bayes on Iris Dataset\n",
        "filename = filenames\n",
        "dataset = load_csv(filename)\n",
        "for i in range(len(dataset[0])-1):\n",
        "\tstr_column_to_float(dataset, i)\n",
        "# convert class column to integers\n",
        "str_column_to_int(dataset, len(dataset[0])-1)\n",
        "# fit model\n",
        "model = summarize_by_class(dataset)\n",
        "# define a new record\n",
        "row = [5.7,2.9,4.2,1.3]\n",
        "# predict the label\n",
        "label = predict(model, row)\n",
        "print('Data=%s, Predicted: %s' % (row, label))"
      ],
      "execution_count": null,
      "outputs": [
        {
          "output_type": "error",
          "ename": "FileNotFoundError",
          "evalue": "ignored",
          "traceback": [
            "\u001b[0;31m---------------------------------------------------------------------------\u001b[0m",
            "\u001b[0;31mFileNotFoundError\u001b[0m                         Traceback (most recent call last)",
            "\u001b[0;32m<ipython-input-4-77d38e4281d1>\u001b[0m in \u001b[0;36m<module>\u001b[0;34m()\u001b[0m\n\u001b[1;32m     96\u001b[0m \u001b[0;31m# Make a prediction with Naive Bayes on Iris Dataset\u001b[0m\u001b[0;34m\u001b[0m\u001b[0;34m\u001b[0m\u001b[0;34m\u001b[0m\u001b[0m\n\u001b[1;32m     97\u001b[0m \u001b[0mfilename\u001b[0m \u001b[0;34m=\u001b[0m \u001b[0mfilenames\u001b[0m\u001b[0;34m\u001b[0m\u001b[0;34m\u001b[0m\u001b[0m\n\u001b[0;32m---> 98\u001b[0;31m \u001b[0mdataset\u001b[0m \u001b[0;34m=\u001b[0m \u001b[0mload_csv\u001b[0m\u001b[0;34m(\u001b[0m\u001b[0mfilename\u001b[0m\u001b[0;34m)\u001b[0m\u001b[0;34m\u001b[0m\u001b[0;34m\u001b[0m\u001b[0m\n\u001b[0m\u001b[1;32m     99\u001b[0m \u001b[0;32mfor\u001b[0m \u001b[0mi\u001b[0m \u001b[0;32min\u001b[0m \u001b[0mrange\u001b[0m\u001b[0;34m(\u001b[0m\u001b[0mlen\u001b[0m\u001b[0;34m(\u001b[0m\u001b[0mdataset\u001b[0m\u001b[0;34m[\u001b[0m\u001b[0;36m0\u001b[0m\u001b[0;34m]\u001b[0m\u001b[0;34m)\u001b[0m\u001b[0;34m-\u001b[0m\u001b[0;36m1\u001b[0m\u001b[0;34m)\u001b[0m\u001b[0;34m:\u001b[0m\u001b[0;34m\u001b[0m\u001b[0;34m\u001b[0m\u001b[0m\n\u001b[1;32m    100\u001b[0m         \u001b[0mstr_column_to_float\u001b[0m\u001b[0;34m(\u001b[0m\u001b[0mdataset\u001b[0m\u001b[0;34m,\u001b[0m \u001b[0mi\u001b[0m\u001b[0;34m)\u001b[0m\u001b[0;34m\u001b[0m\u001b[0;34m\u001b[0m\u001b[0m\n",
            "\u001b[0;32m<ipython-input-4-77d38e4281d1>\u001b[0m in \u001b[0;36mload_csv\u001b[0;34m(filename)\u001b[0m\n\u001b[1;32m      8\u001b[0m \u001b[0;32mdef\u001b[0m \u001b[0mload_csv\u001b[0m\u001b[0;34m(\u001b[0m\u001b[0mfilename\u001b[0m\u001b[0;34m)\u001b[0m\u001b[0;34m:\u001b[0m\u001b[0;34m\u001b[0m\u001b[0;34m\u001b[0m\u001b[0m\n\u001b[1;32m      9\u001b[0m         \u001b[0mdataset\u001b[0m \u001b[0;34m=\u001b[0m \u001b[0mlist\u001b[0m\u001b[0;34m(\u001b[0m\u001b[0;34m)\u001b[0m\u001b[0;34m\u001b[0m\u001b[0;34m\u001b[0m\u001b[0m\n\u001b[0;32m---> 10\u001b[0;31m         \u001b[0;32mwith\u001b[0m \u001b[0mopen\u001b[0m\u001b[0;34m(\u001b[0m\u001b[0mfilename\u001b[0m\u001b[0;34m,\u001b[0m \u001b[0;34m'r'\u001b[0m\u001b[0;34m)\u001b[0m \u001b[0;32mas\u001b[0m \u001b[0mfile\u001b[0m\u001b[0;34m:\u001b[0m\u001b[0;34m\u001b[0m\u001b[0;34m\u001b[0m\u001b[0m\n\u001b[0m\u001b[1;32m     11\u001b[0m                 \u001b[0mcsv_reader\u001b[0m \u001b[0;34m=\u001b[0m \u001b[0mreader\u001b[0m\u001b[0;34m(\u001b[0m\u001b[0mfile\u001b[0m\u001b[0;34m)\u001b[0m\u001b[0;34m\u001b[0m\u001b[0;34m\u001b[0m\u001b[0m\n\u001b[1;32m     12\u001b[0m                 \u001b[0;32mfor\u001b[0m \u001b[0mrow\u001b[0m \u001b[0;32min\u001b[0m \u001b[0mcsv_reader\u001b[0m\u001b[0;34m:\u001b[0m\u001b[0;34m\u001b[0m\u001b[0;34m\u001b[0m\u001b[0m\n",
            "\u001b[0;31mFileNotFoundError\u001b[0m: [Errno 2] No such file or directory: 'https://raw.githubusercontent.com/jbrownlee/Datasets/master/iris.csv'"
          ]
        }
      ]
    },
    {
      "cell_type": "code",
      "metadata": {
        "id": "mHNp1exmnlPJ"
      },
      "source": [
        "filenames= 'https://raw.githubusercontent.com/jbrownlee/Datasets/master/iris.csv'"
      ],
      "execution_count": null,
      "outputs": []
    },
    {
      "cell_type": "code",
      "metadata": {
        "id": "hDvaQw9Zpf0i"
      },
      "source": [
        "import pandas as pd\n",
        "\n",
        "training_data =[\n",
        "                ['sunny','hot','high','FALSE','no'],\n",
        "                ['sunny','hot','high','TRUE','no'],\n",
        "                ['overcast','hot','high','FALSE','yes'],\n",
        "              \n",
        "                ['rainy','mild','high','FALSE','yes'],\n",
        "                ['rainy','cool','normal','FALSE','yes'],\n",
        "                ['rainy','cool','normal','TRUE','no'],\n",
        "                ['overcast','cool','normal','TRUE','yes'],\n",
        "                ['sunny','mild','high','FALSE','no'],\n",
        "                ['sunny','cool','normal','FALSE','yes'],\n",
        "                ['rainy','mild','normal','FALSE','yes'],\n",
        "                ['sunny','mild','normal','TRUE','yes'],\n",
        "                ['overcast','mild','high','TRUE','yes'],\n",
        "                ['overcast','hot','normal','FALSE','yes'],\n",
        "                ['rainy','mild','high','TRUE','no']\n",
        "]\n",
        "header = ['outlook','temperature','humidity','windy','play']\n",
        "data = pd.DataFrame(training_data,columns=header)"
      ],
      "execution_count": null,
      "outputs": []
    },
    {
      "cell_type": "code",
      "metadata": {
        "id": "Wpt7qhDcrdq-",
        "outputId": "34be8f62-1fcd-40a6-c3df-04e86be93c67",
        "colab": {
          "base_uri": "https://localhost:8080/",
          "height": 468
        }
      },
      "source": [
        "data"
      ],
      "execution_count": null,
      "outputs": [
        {
          "output_type": "execute_result",
          "data": {
            "text/html": [
              "<div>\n",
              "<style scoped>\n",
              "    .dataframe tbody tr th:only-of-type {\n",
              "        vertical-align: middle;\n",
              "    }\n",
              "\n",
              "    .dataframe tbody tr th {\n",
              "        vertical-align: top;\n",
              "    }\n",
              "\n",
              "    .dataframe thead th {\n",
              "        text-align: right;\n",
              "    }\n",
              "</style>\n",
              "<table border=\"1\" class=\"dataframe\">\n",
              "  <thead>\n",
              "    <tr style=\"text-align: right;\">\n",
              "      <th></th>\n",
              "      <th>outlook</th>\n",
              "      <th>temperature</th>\n",
              "      <th>humidity</th>\n",
              "      <th>windy</th>\n",
              "      <th>play</th>\n",
              "    </tr>\n",
              "  </thead>\n",
              "  <tbody>\n",
              "    <tr>\n",
              "      <th>0</th>\n",
              "      <td>sunny</td>\n",
              "      <td>hot</td>\n",
              "      <td>high</td>\n",
              "      <td>FALSE</td>\n",
              "      <td>no</td>\n",
              "    </tr>\n",
              "    <tr>\n",
              "      <th>1</th>\n",
              "      <td>sunny</td>\n",
              "      <td>hot</td>\n",
              "      <td>high</td>\n",
              "      <td>TRUE</td>\n",
              "      <td>no</td>\n",
              "    </tr>\n",
              "    <tr>\n",
              "      <th>2</th>\n",
              "      <td>overcast</td>\n",
              "      <td>hot</td>\n",
              "      <td>high</td>\n",
              "      <td>FALSE</td>\n",
              "      <td>yes</td>\n",
              "    </tr>\n",
              "    <tr>\n",
              "      <th>3</th>\n",
              "      <td>rainy</td>\n",
              "      <td>mild</td>\n",
              "      <td>high</td>\n",
              "      <td>FALSE</td>\n",
              "      <td>yes</td>\n",
              "    </tr>\n",
              "    <tr>\n",
              "      <th>4</th>\n",
              "      <td>rainy</td>\n",
              "      <td>cool</td>\n",
              "      <td>normal</td>\n",
              "      <td>FALSE</td>\n",
              "      <td>yes</td>\n",
              "    </tr>\n",
              "    <tr>\n",
              "      <th>5</th>\n",
              "      <td>rainy</td>\n",
              "      <td>cool</td>\n",
              "      <td>normal</td>\n",
              "      <td>TRUE</td>\n",
              "      <td>no</td>\n",
              "    </tr>\n",
              "    <tr>\n",
              "      <th>6</th>\n",
              "      <td>overcast</td>\n",
              "      <td>cool</td>\n",
              "      <td>normal</td>\n",
              "      <td>TRUE</td>\n",
              "      <td>yes</td>\n",
              "    </tr>\n",
              "    <tr>\n",
              "      <th>7</th>\n",
              "      <td>sunny</td>\n",
              "      <td>mild</td>\n",
              "      <td>high</td>\n",
              "      <td>FALSE</td>\n",
              "      <td>no</td>\n",
              "    </tr>\n",
              "    <tr>\n",
              "      <th>8</th>\n",
              "      <td>sunny</td>\n",
              "      <td>cool</td>\n",
              "      <td>normal</td>\n",
              "      <td>FALSE</td>\n",
              "      <td>yes</td>\n",
              "    </tr>\n",
              "    <tr>\n",
              "      <th>9</th>\n",
              "      <td>rainy</td>\n",
              "      <td>mild</td>\n",
              "      <td>normal</td>\n",
              "      <td>FALSE</td>\n",
              "      <td>yes</td>\n",
              "    </tr>\n",
              "    <tr>\n",
              "      <th>10</th>\n",
              "      <td>sunny</td>\n",
              "      <td>mild</td>\n",
              "      <td>normal</td>\n",
              "      <td>TRUE</td>\n",
              "      <td>yes</td>\n",
              "    </tr>\n",
              "    <tr>\n",
              "      <th>11</th>\n",
              "      <td>overcast</td>\n",
              "      <td>mild</td>\n",
              "      <td>high</td>\n",
              "      <td>TRUE</td>\n",
              "      <td>yes</td>\n",
              "    </tr>\n",
              "    <tr>\n",
              "      <th>12</th>\n",
              "      <td>overcast</td>\n",
              "      <td>hot</td>\n",
              "      <td>normal</td>\n",
              "      <td>FALSE</td>\n",
              "      <td>yes</td>\n",
              "    </tr>\n",
              "    <tr>\n",
              "      <th>13</th>\n",
              "      <td>rainy</td>\n",
              "      <td>mild</td>\n",
              "      <td>high</td>\n",
              "      <td>TRUE</td>\n",
              "      <td>no</td>\n",
              "    </tr>\n",
              "  </tbody>\n",
              "</table>\n",
              "</div>"
            ],
            "text/plain": [
              "     outlook temperature humidity  windy play\n",
              "0      sunny         hot     high  FALSE   no\n",
              "1      sunny         hot     high   TRUE   no\n",
              "2   overcast         hot     high  FALSE  yes\n",
              "3      rainy        mild     high  FALSE  yes\n",
              "4      rainy        cool   normal  FALSE  yes\n",
              "5      rainy        cool   normal   TRUE   no\n",
              "6   overcast        cool   normal   TRUE  yes\n",
              "7      sunny        mild     high  FALSE   no\n",
              "8      sunny        cool   normal  FALSE  yes\n",
              "9      rainy        mild   normal  FALSE  yes\n",
              "10     sunny        mild   normal   TRUE  yes\n",
              "11  overcast        mild     high   TRUE  yes\n",
              "12  overcast         hot   normal  FALSE  yes\n",
              "13     rainy        mild     high   TRUE   no"
            ]
          },
          "metadata": {
            "tags": []
          },
          "execution_count": 2
        }
      ]
    },
    {
      "cell_type": "code",
      "metadata": {
        "id": "o3At3s4Yrfch",
        "outputId": "72f2ea56-a261-43df-fcda-53f283b49767",
        "colab": {
          "base_uri": "https://localhost:8080/",
          "height": 199
        }
      },
      "source": [
        "\n",
        "Classes ={}\n",
        "target = data.columns[-1]\n",
        "labels = data[target].unique()\n",
        "for i in data.columns[:-1]:\n",
        "  Columns = {}\n",
        "  for j in data[i].unique():\n",
        "    Probabilty = {}\n",
        "    for label in labels:\n",
        "      Probabilty[label] = round(data[i][data[i]==j].where(data[target] == label).count()/data[target].where(data[target] == label).count(),2)\n",
        "    Columns[j] = Probabilty\n",
        "  Classes[i] = Columns\n",
        "Classes\n"
      ],
      "execution_count": null,
      "outputs": [
        {
          "output_type": "execute_result",
          "data": {
            "text/plain": [
              "{'humidity': {'high': {'no': 0.8, 'yes': 0.33},\n",
              "  'normal': {'no': 0.2, 'yes': 0.67}},\n",
              " 'outlook': {'overcast': {'no': 0.0, 'yes': 0.44},\n",
              "  'rainy': {'no': 0.4, 'yes': 0.33},\n",
              "  'sunny': {'no': 0.6, 'yes': 0.22}},\n",
              " 'temperature': {'cool': {'no': 0.2, 'yes': 0.33},\n",
              "  'hot': {'no': 0.4, 'yes': 0.22},\n",
              "  'mild': {'no': 0.4, 'yes': 0.44}},\n",
              " 'windy': {'FALSE': {'no': 0.4, 'yes': 0.67},\n",
              "  'TRUE': {'no': 0.6, 'yes': 0.33}}}"
            ]
          },
          "metadata": {
            "tags": []
          },
          "execution_count": 3
        }
      ]
    },
    {
      "cell_type": "code",
      "metadata": {
        "id": "odrDT0NexrJD",
        "outputId": "b86b2f98-2356-46be-8182-4631eac9e67f",
        "colab": {
          "base_uri": "https://localhost:8080/",
          "height": 345
        }
      },
      "source": [
        "for i in Classes.keys():\n",
        "  print(\"=========================\"+i+\"==============================\")\n",
        "  print(pd.DataFrame.from_dict({j: Classes[i][j]\n",
        "                           for j in Classes[i].keys()},\n",
        "                       orient='index'))"
      ],
      "execution_count": null,
      "outputs": [
        {
          "output_type": "stream",
          "text": [
            "=========================outlook==============================\n",
            "           no   yes\n",
            "sunny     0.6  0.22\n",
            "overcast  0.0  0.44\n",
            "rainy     0.4  0.33\n",
            "=========================temperature==============================\n",
            "       no   yes\n",
            "hot   0.4  0.22\n",
            "mild  0.4  0.44\n",
            "cool  0.2  0.33\n",
            "=========================humidity==============================\n",
            "         no   yes\n",
            "high    0.8  0.33\n",
            "normal  0.2  0.67\n",
            "=========================windy==============================\n",
            "        no   yes\n",
            "FALSE  0.4  0.67\n",
            "TRUE   0.6  0.33\n"
          ],
          "name": "stdout"
        }
      ]
    },
    {
      "cell_type": "code",
      "metadata": {
        "id": "A2fPVgVY3Yyz"
      },
      "source": [
        "Target = {}\n",
        "for label in labels:\n",
        "  Target[label] = data[target][data[target] == label].count()/data[target].count()"
      ],
      "execution_count": null,
      "outputs": []
    },
    {
      "cell_type": "code",
      "metadata": {
        "id": "Yd9pZK12Bdeh",
        "outputId": "8d4d58e6-836b-4691-f83b-04237a7c94dc",
        "colab": {
          "base_uri": "https://localhost:8080/",
          "height": 35
        }
      },
      "source": [
        "Target\n"
      ],
      "execution_count": null,
      "outputs": [
        {
          "output_type": "execute_result",
          "data": {
            "text/plain": [
              "{'no': 0.35714285714285715, 'yes': 0.6428571428571429}"
            ]
          },
          "metadata": {
            "tags": []
          },
          "execution_count": 6
        }
      ]
    },
    {
      "cell_type": "code",
      "metadata": {
        "id": "PbvFnqTABw8u",
        "outputId": "977cde96-afe7-423d-9614-e02390923291",
        "colab": {
          "base_uri": "https://localhost:8080/",
          "height": 54
        }
      },
      "source": [
        "today = ('sunny', 'hot','normal','FALSE')\n",
        "Prob = {}\n",
        "for label in labels:\n",
        "  result=1\n",
        "  for i,j in zip(today,data.columns[:-1]):\n",
        "    result *= Classes[j][i][label]\n",
        "  Prob[label] = round(result*Target[label],4)\n",
        "print(Prob)\n",
        "max(Prob)"
      ],
      "execution_count": null,
      "outputs": [
        {
          "output_type": "stream",
          "text": [
            "{'no': 0.0069, 'yes': 0.014}\n"
          ],
          "name": "stdout"
        },
        {
          "output_type": "execute_result",
          "data": {
            "application/vnd.google.colaboratory.intrinsic+json": {
              "type": "string"
            },
            "text/plain": [
              "'yes'"
            ]
          },
          "metadata": {
            "tags": []
          },
          "execution_count": 7
        }
      ]
    },
    {
      "cell_type": "code",
      "metadata": {
        "id": "qimruoP8FMw1",
        "outputId": "ca7a2528-6160-409d-c47d-131f97eaf007",
        "colab": {
          "base_uri": "https://localhost:8080/",
          "height": 635
        }
      },
      "source": [
        "import pandas as pd\n",
        "training_data =[\n",
        "                ['sunny','hot','high','false','no'],\n",
        "                ['sunny','hot','high','true','no'],\n",
        "                ['overcast','hot','high','false','yes'],\n",
        "                ['rainy','mild','high','false','yes'],\n",
        "                ['rainy','cool','normal','false','yes'],\n",
        "                ['rainy','cool','normal','true','no'],\n",
        "                ['overcast','cool','normal','true','yes'],\n",
        "                ['sunny','mild','high','false','no'],\n",
        "                ['sunny','cool','normal','false','yes'],\n",
        "                ['rainy','mild','normal','false','yes'],\n",
        "                ['sunny','mild','normal','true','yes'],\n",
        "                ['overcast','mild','high','true','yes'],\n",
        "                ['overcast','hot','normal','false','yes'],\n",
        "                ['rainy','mild','high','true','no']]\n",
        "header = ['outlook','temperature','humidity','windy','play']\n",
        "\n",
        "class NaiveBayes:\n",
        "  def __init__(self,Data):\n",
        "    self.data = Data\n",
        "    self.target = self.data.columns[-1]\n",
        "    # self.columns = self.data.columns[:-1]\n",
        "    self.labels = self.data[self.target].unique()\n",
        "    self.Classes = dict()\n",
        "    self.Target = dict()\n",
        "\n",
        "  def PostereirProbability(self):\n",
        "\n",
        "    \"\"\" \n",
        "        This Function Generates the Probability Table of Each Column with refrence to Target value P(B|A)\n",
        "        P(Bi|Ai) = count(Bi){where Ai is known}/count(Ai)\n",
        "    \"\"\"\n",
        "\n",
        "    for column in self.data.columns[:-1]:\n",
        "      cols=dict()\n",
        "      for col_unique in self.data[column].unique():\n",
        "        probabilty_value = dict()\n",
        "        for label in self.labels:\n",
        "          count = self.data[column][self.data[column]==col_unique].where(self.data[self.target] == label).count()\n",
        "          probabilty_value[label] = round(count/self.data[self.target].where(self.data[self.target] == label).count(),4)\n",
        "        cols[col_unique] = probabilty_value\n",
        "      self.Classes[column] = cols\n",
        "\n",
        "  def displayProbability(self):\n",
        "    \"\"\" \n",
        "        This Function Display the Probability Table of Each Column with refrence to Target value\n",
        "        P(B|A)\n",
        "    \"\"\"\n",
        "    self.PostereirProbability()\n",
        "    print(\"Probability values for all the classes with respect to Target Labels:\")\n",
        "    for i in self.Classes.keys():\n",
        "      print(\"=========================\"+i.upper()+\"=========================\")\n",
        "      print(pd.DataFrame.from_dict({j: self.Classes[i][j] for j in self.Classes[i].keys()},orient='index'))\n",
        "\n",
        "  def getTarget(self):\n",
        "    \"\"\" \n",
        "        This Function Generates the Probability values of Individual Target Variable\n",
        "        ex : P(A1) = count(A1)/SUM(count(A1),count(A2),...,count(An))\n",
        "    \"\"\"\n",
        "    self.displayProbability()\n",
        "    for label in self.labels:\n",
        "      self.Target[label] = round(self.data[self.target][self.data[self.target] == label].count()/self.data[self.target].count(),4)\n",
        "    print(\"=========================Probability Of the Target Values=========================\\nP(A):\",self.Target)\n",
        "\n",
        "\n",
        "  def prediction(self,Value):\n",
        "    \"\"\"\n",
        "        This Function Predict the Taget class for Given Value by calculating P(A|B)\n",
        "        P(A|B) = P(B|A)*P(A)\n",
        "        INPUT: dict()\n",
        "        Output = Maximum(P(A1|B),P(A2|B),...,P(An|B))\n",
        "    \"\"\"\n",
        "\n",
        "    self.getTarget()\n",
        "    probability_target = dict()\n",
        "    for label in self.labels:\n",
        "      result = 1\n",
        "      for i,j in Value.items():\n",
        "        result *= self.Classes[i][j][label]\n",
        "      probability_target[label] = result*self.Target[label]\n",
        "    #To convert this into a probability by making the sum equal to 1 (normalization)\n",
        "\n",
        "    summation = sum(probability_target.values())\n",
        "    res = {key:round(value/summation,2) for key,value in probability_target.items()}\n",
        "    maximum = max(res, key=res.get) #key of maximum value\n",
        "    return (maximum,max(res.values()))\n",
        "\n",
        "def main():\n",
        "    print(\"=========================Naive Bayes Classifier=========================\")\n",
        "    df = pd.DataFrame(training_data,columns=header)\n",
        "    Values={}\n",
        "    print(\"Enter the Parameter to predict the Class Label\")\n",
        "    for i in df.columns[:-1]:\n",
        "      print(\"{} : from {}: \".format(i,df[i].unique()))\n",
        "      Values[i] =input()\n",
        " \n",
        "    naive_Bayes = NaiveBayes(df)\n",
        "    output,Probability = naive_Bayes.prediction(Values)\n",
        "    print(\"========================Output from Calssifier========================\")\n",
        "    print(\"\\nPridicted Class Label for given input parameter '{}' and  P(A|B): {} \".format(output,Probability))\n",
        "main()\n"
      ],
      "execution_count": null,
      "outputs": [
        {
          "output_type": "stream",
          "text": [
            "=========================Naive Bayes Classifier=========================\n",
            "Enter the Parameter to predict the Class Label\n",
            "outlook : from ['sunny' 'overcast' 'rainy']: \n",
            "rainy\n",
            "temperature : from ['hot' 'mild' 'cool']: \n",
            "cool\n",
            "humidity : from ['high' 'normal']: \n",
            "high\n",
            "windy : from ['false' 'true']: \n",
            "true\n",
            "Probability values for all the classes with respect to Target Labels:\n",
            "=========================OUTLOOK=========================\n",
            "           no     yes\n",
            "sunny     0.6  0.2222\n",
            "overcast  0.0  0.4444\n",
            "rainy     0.4  0.3333\n",
            "=========================TEMPERATURE=========================\n",
            "       no     yes\n",
            "hot   0.4  0.2222\n",
            "mild  0.4  0.4444\n",
            "cool  0.2  0.3333\n",
            "=========================HUMIDITY=========================\n",
            "         no     yes\n",
            "high    0.8  0.3333\n",
            "normal  0.2  0.6667\n",
            "=========================WINDY=========================\n",
            "        no     yes\n",
            "false  0.4  0.6667\n",
            "true   0.6  0.3333\n",
            "=========================Probability Of the Target Values=========================\n",
            "P(A): {'no': 0.3571, 'yes': 0.6429}\n",
            "========================Output from Calssifier========================\n",
            "\n",
            "Pridicted Class Label for given input parameter 'no' and  P(A|B): 0.63 \n"
          ],
          "name": "stdout"
        }
      ]
    },
    {
      "cell_type": "markdown",
      "metadata": {
        "id": "jqPYS_LxDAIw"
      },
      "source": [
        ""
      ]
    },
    {
      "cell_type": "code",
      "metadata": {
        "id": "ouUVvu5sUbof",
        "outputId": "b218aba6-11c7-4c2e-c167-dd741508742b",
        "colab": {
          "base_uri": "https://localhost:8080/",
          "height": 241
        }
      },
      "source": [
        " # #      Implement data smoothing techniques CO2\n",
        " \n",
        "# Smoothing by bin means : In smoothing by bin means, each value in a bin is replaced by the mean value of the bin.\n",
        "# Smoothing by bin median : In this method each bin value is replaced by its bin median value.\n",
        "# Smoothing by bin boundary : In smoothing by bin boundaries, the minimum and maximum values in a given bin are identified as the bin boundaries. Each bin value is then replaced by the closest boundary value.\n",
        " \n",
        "# Sort the array of given data set.\n",
        "# Divides the range into N intervals, each containing the approximately same number of samples(Equal-depth partitioning).\n",
        "# Store mean/ median/ boundaries in each row.\n",
        "import statistics\n",
        "class Smoothing:\n",
        "  def __init__(self,Array,bin):\n",
        "    self.data = Array\n",
        "    self.bin_size = bin\n",
        "    self.Bins = []\n",
        "  def initial_steps(self):\n",
        "    self.data = sorted(self.data)\n",
        "    for i in range(0,len(self.data),self.bin_size):\n",
        "      self.Bins.append(self.data[i:i+self.bin_size])\n",
        "    print(self.Bins)\n",
        " \n",
        "  def bin_mean(self):\n",
        "    print(\"Smoothing By Bin Mean\")\n",
        "    for i in range(len(self.Bins)):\n",
        "      mean = sum(self.Bins[i])//self.bin_size\n",
        "      self.Bins[i] = [mean for i in range(self.bin_size)]\n",
        "    print([i for j in self.Bins for i in j])\n",
        " \n",
        "  def bin_median(self):\n",
        "    print(\"Smoothing By Bin Median\")\n",
        "    for i in range(len(self.Bins)):\n",
        "      median = statistics.median(self.Bins[i])\n",
        "      self.Bins[i] = [median for i in range(self.bin_size)]\n",
        "    print([i for j in self.Bins for i in j])\n",
        " \n",
        "  def bin_boundary(self):\n",
        "    print(\"Smoothing By Bin Boundary \")\n",
        "    Binz = []\n",
        "    for i in self.Bins:\n",
        "      res = [i[0]] #for Lower Boundary value in bin\n",
        "      for j in range(1,len(i)-1):\n",
        "        if i[j]-i[0] <= i[-1]-i[j]:\n",
        "          res.append(i[0])\n",
        "        else:\n",
        "            res.append(i[-1])\n",
        "      res.append(i[-1])\n",
        "      Binz.append(res)\n",
        "    print([i for j in Binz for i in j])\n",
        " \n",
        "def main():\n",
        "    print(\"-----------Smoothing Techniques---------\")\n",
        "    print(\"Enter Array to be smoothed \")\n",
        "    Array = list(map(int,input().split(\",\")))\n",
        "    bin = int(input(\"Enter Bin size: \"))\n",
        "    S = Smoothing(Array,bin)\n",
        "    S.initial_steps()\n",
        "    print(\"Select a Smoothing method \\n1.Bin_mean\\n2.Bin_Median\\n3.Bin_Boundary\")\n",
        "    choice = int(input())\n",
        "    if choice == 1:\n",
        "      S.bin_mean()\n",
        "    elif choice == 2:\n",
        "      S.bin_median()\n",
        "    elif choice == 3:\n",
        "      S.bin_boundary()\n",
        "    else:\n",
        "      print(\"Incorrect Choice\")\n",
        " \n",
        "main()"
      ],
      "execution_count": null,
      "outputs": [
        {
          "output_type": "stream",
          "text": [
            "-----------Smoothing Techniques---------\n",
            "Enter Array to be smoothed \n",
            "4,8,9,15,21,21,24,25,26,28,29,34\n",
            "Enter Bin size: 3\n",
            "[[4, 8, 9], [15, 21, 21], [24, 25, 26], [28, 29, 34]]\n",
            "Select a Smoothing method \n",
            "1.Bin_mean\n",
            "2.Bin_Median\n",
            "3.Bin_Boundary\n",
            "3\n",
            "Smoothing By Bin Boundary \n",
            "[4, 9, 9, 15, 21, 21, 24, 24, 26, 28, 28, 34]\n"
          ],
          "name": "stdout"
        }
      ]
    },
    {
      "cell_type": "code",
      "metadata": {
        "id": "eoDey69wReUt",
        "outputId": "571729d3-7655-4b2a-db4d-441abb06044a",
        "colab": {
          "base_uri": "https://localhost:8080/",
          "height": 173
        }
      },
      "source": [
        " \n",
        "import statistics as s\n",
        "class Normalization:\n",
        "    def __init__(self,Array):\n",
        "        self.data= Array\n",
        "    def minMax(self):\n",
        "        print(\"Original Min:{} Original Max:{}\".format(min(self.data),max(self.data)))\n",
        "        Min_max = [(i-min(self.data))/(max(self.data)-min(self.data)) for i in self.data]\n",
        "        return Min_max\n",
        "    def zScore(self):\n",
        "        ZScore= [round((i- s.mean(self.data))/s.pstdev(self.data),3) for i in self.data]\n",
        "        return ZScore\n",
        " \n",
        " \n",
        "def main():\n",
        "    print(\"Enter Data to be Normalized\")\n",
        "    data= list(map(int,input().split()))\n",
        "    print(\"Data:\",data)\n",
        "    norm= Normalization(data)\n",
        "    print(\"----------------Min-Max Normalization------------\")\n",
        "    print(norm.minMax())\n",
        "    print(\"------------------ZScore Normalization-------------\")\n",
        "    print(norm.zScore())\n",
        " \n",
        "main()"
      ],
      "execution_count": null,
      "outputs": [
        {
          "output_type": "stream",
          "text": [
            "Enter Data to be Normalized\n",
            "200 300 400 600 1000\n",
            "Data: [200, 300, 400, 600, 1000]\n",
            "----------------Min-Max Normalization------------\n",
            "Original Min:200 Original Max:1000\n",
            "[0.0, 0.125, 0.25, 0.5, 1.0]\n",
            "------------------ZScore Normalization-------------\n",
            "[-1.061, -0.707, -0.354, 0.354, 1.768]\n"
          ],
          "name": "stdout"
        }
      ]
    },
    {
      "cell_type": "code",
      "metadata": {
        "id": "UZnP-0oUEqOY"
      },
      "source": [
        "# To study about Data mining and Data Warehousing         CO2\n",
        "#    Create a pivot table and pivot chart on sample database in excel CO2\n",
        "#    Implement data smoothing techniques CO2\n",
        "#    Implement normalization techniques CO2\n",
        "#    To study about data mining tool: Weka CO1\n",
        "#    Implement APRIORI algorithm in Weka CO1\n",
        "#    Implement APRIORI Algorithm in JAVA CO1\n",
        "#    Implement Decision Tree classification in Weka CO1 \n",
        "#    Implement Decision Tree Classification in .Net/Python/Java CO1\n",
        "#    Implement Naïve  bayes algorithm in Weka CO1\n",
        "#    Implement Naïve  bayes Classification in .Net/Python/Java CO1\n",
        "#    Implement k-mean clustering algorithm CO1\n",
        " \n",
        "#    3 binning technique\n",
        "#    4 min max and z2 method\n",
        " \n",
        "#    first page title page collegename,subjectname,rollno,\n",
        "#    2nd page certificate\n",
        "#    3rd page index srno title page remarks\n",
        "#    from 4th page all the practicals\n",
        "# word and pdf file both updation"
      ],
      "execution_count": null,
      "outputs": []
    },
    {
      "cell_type": "code",
      "metadata": {
        "id": "0H-f0DRifPL5",
        "outputId": "80a16cf8-ac9c-4e2f-c409-aae329d11947",
        "colab": {
          "base_uri": "https://localhost:8080/",
          "height": 382
        }
      },
      "source": [
        " \n",
        "samples = [[185,72],[170,56],[168,60],[179,68],[182,72],[188,77],[180,71],[180,70],[183,84],[180,88],[180,67],[177,76]]\n",
        "import matplotlib.pyplot as plt\n",
        "import numpy as np\n",
        "from matplotlib import style\n",
        "style.use('ggplot')\n",
        "X = np.array(samples)\n",
        " \n",
        "plt.scatter(X[:,0], X[:,1], s=150)\n",
        "plt.show()\n",
        " \n",
        "class K_Means:\n",
        "    def __init__(self, k=2, tol=0.001, max_iter=300):\n",
        "        self.k = k\n",
        "        self.tol = tol\n",
        "        self.max_iter = max_iter\n",
        " \n",
        "    def fit(self,data):\n",
        " \n",
        "        self.centroids = {}\n",
        " \n",
        "        for i in range(self.k):\n",
        "            self.centroids[i] = data[i]\n",
        " \n",
        "        for i in range(self.max_iter):\n",
        "            self.classifications = {}\n",
        " \n",
        "            for i in range(self.k):\n",
        "                self.classifications[i] = []\n",
        " \n",
        "            for featureset in data:\n",
        "                distances = [np.linalg.norm(featureset-self.centroids[centroid]) for centroid in self.centroids]\n",
        "                classification = distances.index(min(distances))\n",
        "                self.classifications[classification].append(featureset)\n",
        " \n",
        "            prev_centroids = dict(self.centroids)\n",
        " \n",
        "            for classification in self.classifications:\n",
        "                self.centroids[classification] = np.average(self.classifications[classification],axis=0)\n",
        " \n",
        "            optimized = True\n",
        " \n",
        "            for c in self.centroids:\n",
        "                original_centroid = prev_centroids[c]\n",
        "                current_centroid = self.centroids[c]\n",
        "                if np.sum((current_centroid-original_centroid)/original_centroid*100):\n",
        "                    optimized = False\n",
        " \n",
        "            if optimized:\n",
        "                break\n",
        " \n",
        "    def predict(self,data):\n",
        "        distances = [np.linalg.norm(data-self.centroids[centroid]) for centroid in self.centroids]\n",
        "        classification = distances.index(min(distances))\n",
        "        return classification\n",
        "model = K_Means(k=2,max_iter=1)\n",
        "model.fit(X)\n",
        " \n",
        "for centroid in model.centroids:\n",
        "    plt.scatter(model.centroids[centroid][0], model.centroids[centroid][1],\n",
        "                marker=\"o\", color=\"k\", s=150, linewidths=5)\n",
        "colors =['r','g','b']\n",
        "for classification in model.classifications:\n",
        "    color= colors[classification]\n",
        "    for featureset in model.classifications[classification]:\n",
        "        plt.scatter(featureset[0], featureset[1], marker=\"x\", color=color, s=150, linewidths=5)\n",
        "        \n",
        "plt.show()"
      ],
      "execution_count": null,
      "outputs": [
        {
          "output_type": "display_data",
          "data": {
            "image/png": "[encoded data removed]",
            "text/plain": [
              "<Figure size 432x288 with 1 Axes>"
            ]
          },
          "metadata": {
            "tags": []
          }
        },
        {
          "output_type": "display_data",
          "data": {
            "image/png": "[encoded data removed]",
            "text/plain": [
              "<Figure size 432x288 with 1 Axes>"
            ]
          },
          "metadata": {
            "tags": []
          }
        }
      ]
    }
  ]
}